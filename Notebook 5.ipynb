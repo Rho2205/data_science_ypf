{
 "cells": [
  {
   "cell_type": "markdown",
   "metadata": {
    "id": "Gp2WddtV9IwG"
   },
   "source": [
    "# Programa Ingenias+ Data Science"
   ]
  },
  {
   "cell_type": "markdown",
   "metadata": {
    "id": "H4M1yVbf9IwH"
   },
   "source": [
    "Como dijimos en clases anteriores, Python tiene implementadas muchas librerias para poder trabajar con datos. En la clase de hoy trabajaremos con una de ellas: `Numpy`."
   ]
  },
  {
   "cell_type": "markdown",
   "metadata": {
    "id": "GdTT8WeL9IwI"
   },
   "source": [
    "Antes de comenzar, vamos a hablar un poco de esta libreria o modulo.\n",
    "\n",
    "**Numpy** es una librería optimizada para realizar cálculos numéricos con vectores y matrices. A diferencia de otros lenguajes de programación, Python no posee en su estructura central la figura de matrices. Eso quiere decir que para poder trabajar con esta estructura de datos deberiamos trabajar con listas de listas. NumPy introduce el concepto de arrays o matrices."
   ]
  },
  {
   "cell_type": "markdown",
   "metadata": {
    "id": "qWkq3EHK9IwK"
   },
   "source": [
    "Al ser de código abierto, `numpy` posee una documentación muy amplia que es **SIEMPRE RECOMENDABLE** consultar."
   ]
  },
  {
   "cell_type": "markdown",
   "metadata": {
    "id": "nxe3KLUO9IwL"
   },
   "source": [
    "- [Documentacion NumPy](https://devdocs.io/numpy/)"
   ]
  },
  {
   "cell_type": "markdown",
   "metadata": {
    "id": "l1Ay3nSs9IwN"
   },
   "source": [
    "## Clase 4: Introduccion a NumPy"
   ]
  },
  {
   "cell_type": "markdown",
   "metadata": {
    "id": "X03mviQS9IyL"
   },
   "source": [
    "# Ejercicios\n",
    "\n",
    "1. Crear un arreglo de ceros de longitud 12\n",
    "2. Crear un arreglo de longitud 10 con ceros en todas sus posiciones y un 10 en la posición número 5\n",
    "3. Crear un arreglo que tenga los números del 10 al 49\n",
    "4. Crear una arreglo 2d de shape (3, 3) que tenga los números del 0 al 8\n",
    "5. Crear un arreglo de números aleatorios de longitud 100 y obtener su media y varianza\n",
    "6. Calcular la media de un arreglo usando np.sum\n",
    "7. Calcular la varianza de un arreglo usando np.sum y np.mean\n",
    "8. Crear un array de números aleatorios usando np.random.randn.\n"
   ]
  },
  {
   "cell_type": "markdown",
   "metadata": {},
   "source": [
    "### Imports"
   ]
  },
  {
   "cell_type": "code",
   "execution_count": null,
   "metadata": {},
   "outputs": [],
   "source": [
    "# Importar numpy \n",
    "import numpy as np"
   ]
  },
  {
   "cell_type": "markdown",
   "metadata": {},
   "source": [
    "### 1. Crear un arreglo de ceros de longitud 12"
   ]
  },
  {
   "cell_type": "code",
   "execution_count": 11,
   "metadata": {
    "id": "G0NMKT609IyM"
   },
   "outputs": [
    {
     "name": "stdout",
     "output_type": "stream",
     "text": [
      "[0. 0. 0. 0. 0. 0. 0. 0. 0. 0. 0. 0.]\n"
     ]
    }
   ],
   "source": [
    "array_zeros = np.zeros(12)\n",
    "\n",
    "print(array_zeros)"
   ]
  },
  {
   "cell_type": "markdown",
   "metadata": {},
   "source": [
    "### 2. Crear un arreglo de longitud 10 con ceros en todas sus posiciones y un 10 en la posición número 5"
   ]
  },
  {
   "cell_type": "code",
   "execution_count": 12,
   "metadata": {},
   "outputs": [
    {
     "name": "stdout",
     "output_type": "stream",
     "text": [
      "[ 0.  0.  0.  0.  0. 10.  0.  0.  0.  0.]\n"
     ]
    }
   ],
   "source": [
    "# Creo un array de 10 ceros\n",
    "array1 = np.zeros(10)\n",
    "\n",
    "# Modifico la posicion 5 para asignar un 10 (es el 6to elemento)\n",
    "array1[5] = 10\n",
    "\n",
    "print(array1)"
   ]
  },
  {
   "cell_type": "markdown",
   "metadata": {},
   "source": [
    "### 3. Crear un arreglo que tenga los números del 10 al 49"
   ]
  },
  {
   "cell_type": "code",
   "execution_count": 3,
   "metadata": {},
   "outputs": [
    {
     "data": {
      "text/plain": [
       "array([10, 11, 12, 13, 14, 15, 16, 17, 18, 19, 20, 21, 22, 23, 24, 25, 26,\n",
       "       27, 28, 29, 30, 31, 32, 33, 34, 35, 36, 37, 38, 39, 40, 41, 42, 43,\n",
       "       44, 45, 46, 47, 48, 49])"
      ]
     },
     "execution_count": 3,
     "metadata": {},
     "output_type": "execute_result"
    }
   ],
   "source": [
    "np.arange(10, 50, 1)"
   ]
  },
  {
   "cell_type": "markdown",
   "metadata": {},
   "source": [
    "### 4. Crear una arreglo 2d de shape (3, 3) que tenga los números del 0 al 8"
   ]
  },
  {
   "cell_type": "code",
   "execution_count": 17,
   "metadata": {},
   "outputs": [
    {
     "name": "stdout",
     "output_type": "stream",
     "text": [
      "Array 2D: \n",
      " [[0 1 2]\n",
      " [3 4 5]\n",
      " [6 7 8]]\n",
      "Dimensiones:  2\n",
      "Cantidad de elementos del array:  9\n"
     ]
    }
   ],
   "source": [
    "array_2d = np.arange(9).reshape(3, 3)\n",
    "\n",
    "print(\"Array 2D: \\n\", array_2d)\n",
    "\n",
    "# Dimensiones del array\n",
    "print(\"Dimensiones: \", array_2d.ndim)\n",
    "\n",
    "# Cantidad de elementos del array\n",
    "print(\"Cantidad de elementos del array: \", array_2d.size)"
   ]
  },
  {
   "cell_type": "markdown",
   "metadata": {},
   "source": [
    "### 5. Crear un arreglo de números aleatorios de longitud 100 y obtener su media y varianza"
   ]
  },
  {
   "cell_type": "code",
   "execution_count": 27,
   "metadata": {},
   "outputs": [
    {
     "name": "stdout",
     "output_type": "stream",
     "text": [
      "Array random: \n",
      " [0.79503645 0.31583443 0.08518655 0.95471135 0.95361781 0.99274289\n",
      " 0.20114916 0.05055051 0.8462455  0.96972866 0.49518861 0.56334563\n",
      " 0.17827561 0.09513108 0.85076721 0.68526147 0.24726458 0.18140835\n",
      " 0.65379902 0.75005499 0.91232181 0.6967707  0.01785583 0.76463535\n",
      " 0.91960084 0.97261173 0.83029909 0.54138723 0.31456986 0.08062815\n",
      " 0.20917578 0.24647974 0.89632269 0.35801282 0.8546833  0.87336231\n",
      " 0.77604851 0.22548529 0.38936461 0.22559749 0.36999269 0.04144752\n",
      " 0.91557677 0.74360375 0.9267349  0.3953549  0.76608671 0.54006295\n",
      " 0.71270455 0.72331441 0.52817804 0.04754726 0.37764147 0.80347856\n",
      " 0.74011254 0.66044771 0.97212161 0.62349025 0.38958182 0.9672706\n",
      " 0.5872699  0.38989043 0.34582688 0.6090881  0.25541824 0.09526474\n",
      " 0.07329354 0.86444244 0.53664975 0.64612162 0.9178099  0.40641744\n",
      " 0.89478115 0.06496048 0.64019496 0.86213438 0.71757917 0.88441921\n",
      " 0.47671034 0.14152713 0.56783863 0.25794454 0.86471528 0.79782986\n",
      " 0.3431048  0.39849063 0.84458384 0.42797846 0.43318451 0.83206697\n",
      " 0.00436204 0.41439854 0.89433772 0.80520262 0.63512657 0.92365093\n",
      " 0.89927158 0.39160826 0.14238954 0.19197683]\n",
      "Media:  0.5569512394026552\n",
      "Varianza:  0.08954612901629017\n"
     ]
    }
   ],
   "source": [
    "random_array = np.random.rand(100)\n",
    "\n",
    "print(\"Array random: \\n\", random_array)\n",
    "\n",
    "# Media\n",
    "media = np.mean(random_array)\n",
    "print(\"Media: \", media)\n",
    "\n",
    "# Varianza\n",
    "varianza = np.var(random_array)\n",
    "print(\"Varianza: \", varianza)"
   ]
  },
  {
   "cell_type": "markdown",
   "metadata": {},
   "source": [
    "### 6. Calcular la media de un arreglo usando np.sum"
   ]
  },
  {
   "cell_type": "code",
   "execution_count": 24,
   "metadata": {},
   "outputs": [
    {
     "name": "stdout",
     "output_type": "stream",
     "text": [
      "Media:  0.4511638224210738\n"
     ]
    }
   ],
   "source": [
    "# Calculo de la suma total de elementos del array\n",
    "suma_random_array = np.sum(random_array)\n",
    "\n",
    "# Cantidad de elementos del array\n",
    "cant_elementos = random_array.size\n",
    "\n",
    "# Calculo de media del array\n",
    "media_random_array = suma_random_array / cant_elementos\n",
    "\n",
    "print(\"Media: \", media_random_array)"
   ]
  },
  {
   "cell_type": "markdown",
   "metadata": {},
   "source": [
    "### 7. Calcular la varianza de un arreglo usando np.sum y np.mean"
   ]
  },
  {
   "cell_type": "code",
   "execution_count": 30,
   "metadata": {},
   "outputs": [
    {
     "name": "stdout",
     "output_type": "stream",
     "text": [
      "0.08954612901629017\n"
     ]
    }
   ],
   "source": [
    "# Usamos array y media del ejercicio 5\n",
    "\n",
    "# Calculo de varianza\n",
    "varianza_manual = np.sum((random_array - media) ** 2) / len(random_array)\n",
    "print(varianza_manual)"
   ]
  },
  {
   "cell_type": "markdown",
   "metadata": {},
   "source": [
    "### 8. Crear un array de números aleatorios usando np.random.randn"
   ]
  },
  {
   "cell_type": "code",
   "execution_count": 31,
   "metadata": {},
   "outputs": [
    {
     "name": "stdout",
     "output_type": "stream",
     "text": [
      "[-0.63411355 -0.38338786  1.10050342 -0.10358936 -0.58792121 -0.69786073\n",
      "  2.21144465  0.53060642  0.97780046 -0.7328461   1.06121015  0.7567015\n",
      "  0.01294303 -1.41343779  1.15712871 -0.48905819  1.44605082 -0.06557061\n",
      " -1.44165975  0.30889206 -0.32145132 -0.93785239  0.21484004  0.62878217\n",
      "  1.08982829  0.26735301  1.43898867 -0.64483462  0.01743695 -1.19994568\n",
      " -0.3953277  -1.09911238  1.60333574 -0.56239523  2.26503614  0.98211359\n",
      " -1.94771598 -0.57076611 -0.14236357 -0.5888422  -1.10941482  0.69913578\n",
      " -0.56543412  0.95460757  0.481058    0.17969171 -0.43376556  0.93854676\n",
      " -0.59128805  1.1206069   0.9518767  -0.24074424 -0.87316183  1.67040331\n",
      " -1.06942543  0.95134106  0.53712961  1.75556215 -0.35273498 -0.67375474\n",
      " -0.00575178  0.24561414  0.00419565 -1.26750407 -0.09061435 -1.64565889\n",
      "  0.43982359 -1.3347813   1.13623657 -0.99092623  0.90228738  0.66227913\n",
      " -1.71450223 -0.81460446  2.0871157   0.06287416 -0.60196127  0.47266405\n",
      "  0.17997415  0.21203127 -0.78117496  1.80561171  0.76095343  0.07807818\n",
      "  1.56457743 -0.68135402  1.40477819  0.42372697 -0.58614976 -0.79592976\n",
      " -0.81870824  0.56762955 -0.5624211  -1.04417315  0.3830789   1.18392697\n",
      " -1.15417709 -0.76298136  1.11066177 -0.44849142]\n"
     ]
    }
   ],
   "source": [
    "random_n_array = np.random.randn(100)\n",
    "\n",
    "print(random_n_array)"
   ]
  }
 ],
 "metadata": {
  "colab": {
   "provenance": [
    {
     "file_id": "1yM9mEW0U6gxoaAFhZyw2DpZdZMT5v10J",
     "timestamp": 1676044383219
    },
    {
     "file_id": "1RzLcI0RY1YrYoMa7PW17OME9qOO4jJ4s",
     "timestamp": 1676044338043
    }
   ]
  },
  "kernelspec": {
   "display_name": "Python 3 (ipykernel)",
   "language": "python",
   "name": "python3"
  },
  "language_info": {
   "codemirror_mode": {
    "name": "ipython",
    "version": 3
   },
   "file_extension": ".py",
   "mimetype": "text/x-python",
   "name": "python",
   "nbconvert_exporter": "python",
   "pygments_lexer": "ipython3",
   "version": "3.11.7"
  }
 },
 "nbformat": 4,
 "nbformat_minor": 4
}
